{
 "cells": [
  {
   "cell_type": "code",
   "execution_count": 40,
   "metadata": {},
   "outputs": [],
   "source": [
    "import mysql.connector\n",
    "\n",
    "\n",
    "\n",
    "mydb = mysql.connector.connect(\n",
    "  host=\"localhost\",\n",
    "  user=\"root\",\n",
    "  password=\"\",\n",
    "  \n",
    "  \n",
    ")\n",
    "\n",
    "mycursor = mydb.cursor()\n",
    "mycursor.execute(\"CREATE DATABASE IF NOT EXISTS medicalinv\")\n",
    "mycursor.execute(\"USE medicalinv\")\n",
    "#mycursor.execute(\"CREATE TABLE IF NOT EXISTS 'inventory' ('sno' int NOT NULL AUTO_INCREMENT PRIMARY KEY, 'name' varchar(50) NOT NULL,'type' int NOT NULL,'quantity' int NOT NULL,'price' bigint NOT NULL,'date' datetime NOT NULL DEFAULT CURRENT_TIMESTAMP)\")\n",
    "mycursor.execute(\"CREATE TABLE IF NOT EXISTS inventory (sno int NOT NULL AUTO_INCREMENT PRIMARY KEY, name varchar(50) NOT NULL,type int NOT NULL,quantity int NOT NULL,price bigint NOT NULL,date datetime NOT NULL DEFAULT CURRENT_TIMESTAMP)\")\n",
    "\n",
    "                    \n",
    "  \n",
    " \n",
    "  \n",
    "  \n",
    "  \n",
    "  \n",
    "  \n",
    "\n",
    "\n",
    "\n",
    "\n",
    "\n",
    "\n"
   ]
  },
  {
   "cell_type": "code",
   "execution_count": null,
   "metadata": {},
   "outputs": [],
   "source": []
  }
 ],
 "metadata": {
  "interpreter": {
   "hash": "b8bce8119363c6806954620cee9d929692904bae743eb69bdfef0473f2654cf8"
  },
  "kernelspec": {
   "display_name": "Python 3",
   "language": "python",
   "name": "python3"
  },
  "language_info": {
   "codemirror_mode": {
    "name": "ipython",
    "version": 3
   },
   "file_extension": ".py",
   "mimetype": "text/x-python",
   "name": "python",
   "nbconvert_exporter": "python",
   "pygments_lexer": "ipython3",
   "version": "3.8.8"
  }
 },
 "nbformat": 4,
 "nbformat_minor": 2
}
